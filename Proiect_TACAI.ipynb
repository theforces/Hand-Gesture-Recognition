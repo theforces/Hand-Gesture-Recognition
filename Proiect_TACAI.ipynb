{
  "nbformat": 4,
  "nbformat_minor": 0,
  "metadata": {
    "colab": {
      "name": "Proiect_TACAI.ipynb",
      "provenance": [],
      "collapsed_sections": [],
      "authorship_tag": "ABX9TyO1+iHuLF8EJWZImtpIBgo7",
      "include_colab_link": true
    },
    "kernelspec": {
      "name": "python3",
      "display_name": "Python 3"
    },
    "language_info": {
      "name": "python"
    }
  },
  "cells": [
    {
      "cell_type": "markdown",
      "metadata": {
        "id": "view-in-github",
        "colab_type": "text"
      },
      "source": [
        "<a href=\"https://colab.research.google.com/github/theforces/Hand-Gesture-Recognition/blob/main/Proiect_TACAI.ipynb\" target=\"_parent\"><img src=\"https://colab.research.google.com/assets/colab-badge.svg\" alt=\"Open In Colab\"/></a>"
      ]
    },
    {
      "cell_type": "code",
      "metadata": {
        "colab": {
          "base_uri": "https://localhost:8080/"
        },
        "id": "q4xuc4MEQWVZ",
        "outputId": "4066053c-e1b2-4d19-b8bb-bdae0e20a4fd"
      },
      "source": [
        "pip install opencv-python ipyplot"
      ],
      "execution_count": null,
      "outputs": [
        {
          "output_type": "stream",
          "text": [
            "Requirement already satisfied: opencv-python in /usr/local/lib/python3.7/dist-packages (4.1.2.30)\n",
            "Collecting ipyplot\n",
            "  Downloading https://files.pythonhosted.org/packages/c8/2d/ba3031b6945e40ac1137ffb3931528bf4a76f36f0668b6c1879fadac070d/ipyplot-1.1.0-py3-none-any.whl\n",
            "Requirement already satisfied: numpy>=1.14.5 in /usr/local/lib/python3.7/dist-packages (from opencv-python) (1.19.5)\n",
            "Collecting shortuuid\n",
            "  Downloading https://files.pythonhosted.org/packages/25/a6/2ecc1daa6a304e7f1b216f0896b26156b78e7c38e1211e9b798b4716c53d/shortuuid-1.0.1-py3-none-any.whl\n",
            "Requirement already satisfied: IPython in /usr/local/lib/python3.7/dist-packages (from ipyplot) (5.5.0)\n",
            "Requirement already satisfied: pillow in /usr/local/lib/python3.7/dist-packages (from ipyplot) (7.1.2)\n",
            "Requirement already satisfied: pexpect; sys_platform != \"win32\" in /usr/local/lib/python3.7/dist-packages (from IPython->ipyplot) (4.8.0)\n",
            "Requirement already satisfied: pickleshare in /usr/local/lib/python3.7/dist-packages (from IPython->ipyplot) (0.7.5)\n",
            "Requirement already satisfied: setuptools>=18.5 in /usr/local/lib/python3.7/dist-packages (from IPython->ipyplot) (57.0.0)\n",
            "Requirement already satisfied: decorator in /usr/local/lib/python3.7/dist-packages (from IPython->ipyplot) (4.4.2)\n",
            "Requirement already satisfied: prompt-toolkit<2.0.0,>=1.0.4 in /usr/local/lib/python3.7/dist-packages (from IPython->ipyplot) (1.0.18)\n",
            "Requirement already satisfied: pygments in /usr/local/lib/python3.7/dist-packages (from IPython->ipyplot) (2.6.1)\n",
            "Requirement already satisfied: traitlets>=4.2 in /usr/local/lib/python3.7/dist-packages (from IPython->ipyplot) (5.0.5)\n",
            "Requirement already satisfied: simplegeneric>0.8 in /usr/local/lib/python3.7/dist-packages (from IPython->ipyplot) (0.8.1)\n",
            "Requirement already satisfied: ptyprocess>=0.5 in /usr/local/lib/python3.7/dist-packages (from pexpect; sys_platform != \"win32\"->IPython->ipyplot) (0.7.0)\n",
            "Requirement already satisfied: six>=1.9.0 in /usr/local/lib/python3.7/dist-packages (from prompt-toolkit<2.0.0,>=1.0.4->IPython->ipyplot) (1.15.0)\n",
            "Requirement already satisfied: wcwidth in /usr/local/lib/python3.7/dist-packages (from prompt-toolkit<2.0.0,>=1.0.4->IPython->ipyplot) (0.2.5)\n",
            "Requirement already satisfied: ipython-genutils in /usr/local/lib/python3.7/dist-packages (from traitlets>=4.2->IPython->ipyplot) (0.2.0)\n",
            "Installing collected packages: shortuuid, ipyplot\n",
            "Successfully installed ipyplot-1.1.0 shortuuid-1.0.1\n"
          ],
          "name": "stdout"
        }
      ]
    },
    {
      "cell_type": "code",
      "metadata": {
        "id": "CVZL9cEHQlaV",
        "colab": {
          "base_uri": "https://localhost:8080/"
        },
        "outputId": "58ee8bf6-db90-4608-997c-f0c9e09699c8"
      },
      "source": [
        "import cv2 #used to load the images (in the future it will have other uses)\n",
        "import numpy as np\n",
        "import glob #used to read image names\n",
        "import random #used to generate tran/test split\n",
        "import ipyplot #it will be explained\n",
        "from matplotlib import pyplot as plt #for plotting needs\n",
        "import pickle"
      ],
      "execution_count": null,
      "outputs": [
        {
          "output_type": "stream",
          "text": [
            "\n",
            "        WARNING! Google Colab Environment detected!\n",
            "        You might encounter issues while running in Google Colab environment.\n",
            "        If images are not displaying properly please try setting `base_64` param to `True`.\n",
            "        \n"
          ],
          "name": "stdout"
        }
      ]
    },
    {
      "cell_type": "code",
      "metadata": {
        "colab": {
          "base_uri": "https://localhost:8080/"
        },
        "id": "owD-mu3ZQ8jP",
        "outputId": "15313cbb-9f4d-456b-eabf-1ef9237e520c"
      },
      "source": [
        "from google.colab import drive\n",
        "drive.mount('/gdrive')\n",
        "%cd /gdrive"
      ],
      "execution_count": null,
      "outputs": [
        {
          "output_type": "stream",
          "text": [
            "Mounted at /gdrive\n",
            "/gdrive\n"
          ],
          "name": "stdout"
        }
      ]
    },
    {
      "cell_type": "code",
      "metadata": {
        "colab": {
          "base_uri": "https://localhost:8080/"
        },
        "id": "u-SYbTXFRg6P",
        "outputId": "04610603-8f13-4a72-f855-1477c7be0c5d"
      },
      "source": [
        "# Read with glob the images from DB\n",
        "base_path = \"/gdrive/MyDrive/Colab Notebooks/Files/Own_Images/\"\n",
        "files_list = []\n",
        "for i in range(4):\n",
        "  files_list.append(glob.glob(base_path+str(i)+\"/*.jpg\"))\n",
        "  print(glob.glob(base_path+str(i)+\"/*.jpg\"))"
      ],
      "execution_count": null,
      "outputs": [
        {
          "output_type": "stream",
          "text": [
            "['/gdrive/MyDrive/Colab Notebooks/Files/Own_Images/0/0_1.jpg', '/gdrive/MyDrive/Colab Notebooks/Files/Own_Images/0/0_2.jpg', '/gdrive/MyDrive/Colab Notebooks/Files/Own_Images/0/0_3.jpg', '/gdrive/MyDrive/Colab Notebooks/Files/Own_Images/0/0_4.jpg', '/gdrive/MyDrive/Colab Notebooks/Files/Own_Images/0/0_5.jpg', '/gdrive/MyDrive/Colab Notebooks/Files/Own_Images/0/0_6.jpg', '/gdrive/MyDrive/Colab Notebooks/Files/Own_Images/0/0_7.jpg', '/gdrive/MyDrive/Colab Notebooks/Files/Own_Images/0/0_8.jpg', '/gdrive/MyDrive/Colab Notebooks/Files/Own_Images/0/0_9.jpg', '/gdrive/MyDrive/Colab Notebooks/Files/Own_Images/0/0_10.jpg']\n",
            "['/gdrive/MyDrive/Colab Notebooks/Files/Own_Images/1/1_1.jpg', '/gdrive/MyDrive/Colab Notebooks/Files/Own_Images/1/1_2.jpg', '/gdrive/MyDrive/Colab Notebooks/Files/Own_Images/1/1_3.jpg', '/gdrive/MyDrive/Colab Notebooks/Files/Own_Images/1/1_4.jpg', '/gdrive/MyDrive/Colab Notebooks/Files/Own_Images/1/1_5.jpg', '/gdrive/MyDrive/Colab Notebooks/Files/Own_Images/1/1_6.jpg', '/gdrive/MyDrive/Colab Notebooks/Files/Own_Images/1/1_7.jpg', '/gdrive/MyDrive/Colab Notebooks/Files/Own_Images/1/1_8.jpg', '/gdrive/MyDrive/Colab Notebooks/Files/Own_Images/1/1_9.jpg', '/gdrive/MyDrive/Colab Notebooks/Files/Own_Images/1/1_10.jpg']\n",
            "['/gdrive/MyDrive/Colab Notebooks/Files/Own_Images/2/2_1.jpg', '/gdrive/MyDrive/Colab Notebooks/Files/Own_Images/2/2_2.jpg', '/gdrive/MyDrive/Colab Notebooks/Files/Own_Images/2/2_3.jpg', '/gdrive/MyDrive/Colab Notebooks/Files/Own_Images/2/2_4.jpg', '/gdrive/MyDrive/Colab Notebooks/Files/Own_Images/2/2_5.jpg', '/gdrive/MyDrive/Colab Notebooks/Files/Own_Images/2/2_6.jpg', '/gdrive/MyDrive/Colab Notebooks/Files/Own_Images/2/2_7.jpg', '/gdrive/MyDrive/Colab Notebooks/Files/Own_Images/2/2_8.jpg', '/gdrive/MyDrive/Colab Notebooks/Files/Own_Images/2/2_9.jpg', '/gdrive/MyDrive/Colab Notebooks/Files/Own_Images/2/2_10.jpg']\n",
            "['/gdrive/MyDrive/Colab Notebooks/Files/Own_Images/3/3_1.jpg', '/gdrive/MyDrive/Colab Notebooks/Files/Own_Images/3/3_2.jpg', '/gdrive/MyDrive/Colab Notebooks/Files/Own_Images/3/3_3.jpg', '/gdrive/MyDrive/Colab Notebooks/Files/Own_Images/3/3_4.jpg', '/gdrive/MyDrive/Colab Notebooks/Files/Own_Images/3/3_5.jpg', '/gdrive/MyDrive/Colab Notebooks/Files/Own_Images/3/3_6.jpg', '/gdrive/MyDrive/Colab Notebooks/Files/Own_Images/3/3_7.jpg', '/gdrive/MyDrive/Colab Notebooks/Files/Own_Images/3/3_8.jpg', '/gdrive/MyDrive/Colab Notebooks/Files/Own_Images/3/3_9.jpg', '/gdrive/MyDrive/Colab Notebooks/Files/Own_Images/3/3_10.jpg']\n"
          ],
          "name": "stdout"
        }
      ]
    },
    {
      "cell_type": "code",
      "metadata": {
        "id": "goNsJ3VCQ6zf"
      },
      "source": [
        "def segmentation():\n",
        "  #Segmentare\n",
        "  kernel = np.ones((10, 10), np.float32) / 100\n",
        "  gl = glob.glob('/gdrive/MyDrive/Colab Notebooks/Files/Own_Images/*/*.jpg')\n",
        "  X = []\n",
        "  Y = []\n",
        "  for img_path in gl:\n",
        "    read_image = cv2.imread(img_path)\n",
        "    img = read_image[:, :, 2] #se ia un singur canal ca sa se faca distinctia clara intre mana si perete(in cazul aceste se ia rosu deoarece produece cele mei bune rezultateș alb,verde produc 6 rezultate bune,spre deosebire de 9 la rosu)\n",
        "    img2 = cv2.filter2D(img, -1, kernel)# ca sa se faca imbinarea clara intre ce este mana si ce este fundal(adica sa se stie concret care este mana, care este fundalul), este un filtru de netezire(face blur la imagine folosind media aritmetica)\n",
        "    ret, th1 = cv2.threshold(img2, 195, 255, cv2.THRESH_BINARY_INV)#pragul de 195 s-a gasit empiric; 255 = valoarea maxima care va fi data fiecarui pixel care depaseste pragul; cv2.THRESH_BINARY = dst(x,y)={maxval if src(x,y)>thresh, 0 otherwise}\n",
        "                                                                   #trebuie luati cei mai intunecati pixeli\n",
        "    #th1 = cv2.erode(th1, kernel, iterations=1)\n",
        "    th1 = cv2.dilate(th1, kernel, iterations=1)\n",
        "    th1 = cv2.morphologyEx(th1, cv2.MORPH_CLOSE, kernel)#dilatare intai, apoi erodare\n",
        "\n",
        "    #pana aici s-a obtinut masca, urmeaza partea de extragere a mainii\n",
        "\n",
        "    # plt.figure()\n",
        "    # plt.axis(\"off\")\n",
        "    # plt.imshow(th1, cmap='gray')\n",
        "    # plt.show()\n",
        "    # exit()\n",
        "\n",
        "    #Crop\n",
        "    contours, hier = cv2.findContours(th1, cv2.RETR_TREE, cv2.CHAIN_APPROX_SIMPLE)# returneaza conturul mainii pe th1\n",
        "    size = 0\n",
        "    hand = []\n",
        "    for c in contours:\n",
        "        x, y, w, h = cv2.boundingRect(c) #x,y =  dreptunghiul minim care incadreaza conturul(mana)\n",
        "        if size < w * h: # se ia cel mai mare obiect(mana)\n",
        "            hull = cv2.convexHull(c)#obtinerea coordonatelor punctelor pe baza trasarii poligonului\n",
        "            size = w * h\n",
        "            hand = img[y:y + h, x:x + w] #se face crop la mana\n",
        "            hand_bw = th1[y:y + h, x:x + w]#se face crop la imaginea alb negru\n",
        "            hand[hand_bw == 0] = 0 # s-a luat din imaginea BGR, si ne intereseaza pixeli non zero(fundalul se face negru, mana se face alba)\n",
        "            #resized_hand = cv2.resize(hand, (128,512), interpolation = cv2.INTER_AREA)\n",
        "    resized_hand = cv2.resize(hand, (128, 256), interpolation=cv2.INTER_AREA)\n",
        "\n",
        "    # plt.figure()\n",
        "    # plt.axis(\"off\")\n",
        "    # plt.imshow(resized_hand, cmap='gray')\n",
        "    # plt.show()\n",
        "    # exit()\n",
        "\n",
        "    #Hog\n",
        "    winSize = (64, 64)\n",
        "    blockSize = (16, 16)\n",
        "    blockStride = (8, 8) #cat de mult se misca blocul stg-dr(in cazul asta se muta cu jumate)\n",
        "    cellSize = (8, 8)# is the size of the cells of the img patch over which to calculate the histograms\n",
        "    nbins = 9 #folosit la histograma, sa vada cate intervale sa puna\n",
        "    derivAperture = 1\n",
        "    winSigma = 4.\n",
        "    histogramNormType = 0\n",
        "    L2HysThreshold = 2.0000000000000001e-01\n",
        "    gammaCorrection = 0 #se foloseste at cand se cunoaste tipul bazei de date si sa se faca imaginile cat mai similare una cu alta\n",
        "    nlevels = 64 #cate detectii sa faca\n",
        "    hog = cv2.HOGDescriptor(winSize, blockSize, blockStride, cellSize, nbins, derivAperture, winSigma,\n",
        "                                histogramNormType, L2HysThreshold, gammaCorrection, nlevels) #hog=histograma gradientilor orientati=descriptor care imparte in mai multe zone si face \n",
        "                                                                                             #histograma pe fiecare zona a gradientilor; gradient = directia de schimbare a valorilor pixelilor\n",
        "                                                                                             #gradient pozitiv daca merg de la inchis la deschis, negativ invers\n",
        "                                                                                             #orientarea gradientilor= teta = arctag(gy/gx) care e in intervalul (0,180 ) grade\n",
        "                                                                                             #valoarea gradientului = sqrt(gx^2 + gy^2)\n",
        "                                                                                             #gradientul se calculeaza pe verticala si orizontala(Sobel) pt fiecare pixel=se verifica intensitatea pe verticala si orizontala cu Sobel\n",
        "    winStride = (8, 8)\n",
        "    padding = (8, 8)\n",
        "    locations = ((10, 20),)\n",
        "    hist = hog.compute(resized_hand, winStride, padding, locations)\n",
        "    X.append(hist)\n",
        "    val = \"/\"\n",
        "    Y.append(int(img_path[img_path.rfind(val) + 1]))#se foloseste rfind() pt a gasi ultima aparitie a lui / pt a se gasi eticheta(care e primul caracter dupa ultimul /)\n",
        "    \n",
        "  return (X, Y)\n",
        "      \n",
        "X, Y = segmentation() #  X = descriptors, Y = labels\n",
        "  "
      ],
      "execution_count": null,
      "outputs": []
    },
    {
      "cell_type": "code",
      "metadata": {
        "colab": {
          "base_uri": "https://localhost:8080/"
        },
        "id": "Hy7qn3bBY9_D",
        "outputId": "80e096fa-8f36-4920-b5ca-114705e0d4aa"
      },
      "source": [
        "from sklearn import svm \n",
        "from sklearn.model_selection import train_test_split\n",
        "\n",
        "X_train, X_test, y_train, y_test = train_test_split(X, Y, test_size=0.33, random_state=42)\n",
        "clf = svm.SVC(decision_function_shape='ovo', kernel = \"poly\", degree = 3) #svm = clasificator binar, avem un polinom de gradul 3 in cazul de fata\n",
        "                                                                      #comparativ cu KNN unde tii toate datele si vezi fata de care esti mai aproape, la SVM se cauta marginea=linia=vectorul bidim. care e cel mai \n",
        "                                                                      #departat de cele 2 clase (practic se cauta unde se poate trage o linie intre 2 clase astfel incat sa fie maxim departata de cele 2 clase), \n",
        "                                                                      #iar cand se vrea sa se verifice dupa, doar ne uitam de ce parte a liniei este ceea ce ne intereseaza                    \n",
        "                                                                      #ca sa poata fi folosit la mai multe clase avem \n",
        "                                                                      #OVO(unde se incearca clasa cu clasa, si se cauta unde e distanta cea mai mare si cea cu distanta cea mai mare castiga); \n",
        "                                                                      \n",
        "                                                                      #OVR(pt fiecare clasa se ia clasa de interes si din toate celelalte se face o alta clasa si se cauta vectorii suport)\n",
        "\n",
        "print(np.shape(X_train))\n",
        "X_train = np.array(X_train)\n",
        "print(np.shape(X_train))\n",
        "X_train = np.squeeze(X_train)\n",
        "print(np.shape(X_train))\n",
        "\n",
        "clf.fit(X_train, y_train) #se face antrenarea pe X_train\n",
        "\n",
        "rez = 0\n",
        "for i in range(len(X_test)): #se face predictia pe X_test\n",
        "  \n",
        "  variable = clf.predict(X_test[i].reshape(1,1764))\n",
        "\n",
        "  print(y_test[i], variable)#ce trebuie sa fie, ce trebuie sa raspunda\n",
        "\n",
        "  if y_test[i] == variable:\n",
        "    rez += 1\n",
        "\n",
        "print(rez)\n",
        "print(y_train, y_test)\n"
      ],
      "execution_count": null,
      "outputs": [
        {
          "output_type": "stream",
          "text": [
            "(26, 1764, 1)\n",
            "(26, 1764, 1)\n",
            "(26, 1764)\n",
            "1 [3]\n",
            "1 [2]\n",
            "1 [3]\n",
            "2 [2]\n",
            "0 [0]\n",
            "1 [1]\n",
            "3 [3]\n",
            "2 [2]\n",
            "3 [3]\n",
            "0 [0]\n",
            "2 [3]\n",
            "0 [0]\n",
            "1 [0]\n",
            "3 [3]\n",
            "9\n",
            "[3, 0, 1, 2, 0, 3, 0, 1, 0, 2, 2, 0, 3, 3, 0, 3, 2, 3, 1, 2, 1, 2, 0, 1, 2, 3] [1, 1, 1, 2, 0, 1, 3, 2, 3, 0, 2, 0, 1, 3]\n"
          ],
          "name": "stdout"
        }
      ]
    }
  ]
}